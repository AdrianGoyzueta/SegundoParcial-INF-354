{
 "cells": [
  {
   "cell_type": "code",
   "execution_count": 1,
   "metadata": {},
   "outputs": [
    {
     "name": "stdout",
     "output_type": "stream",
     "text": [
      "Permutacion: [3 4 1 2 0]\n",
      "Vecino: [1 4 3 2 0] = 28\n",
      "Vecino: [2 1 4 3 0] = 27\n",
      "Vecino: [3 2 1 4 0] = 27\n",
      "Vecino: [3 0 2 1 4] = 27\n",
      "Vecino: [3 4 0 2 1] = 27\n"
     ]
    }
   ],
   "source": [
    "import numpy as np\n",
    "\n",
    "\n",
    "# TwoOpt crea una vecindad basda en el operador two-opt de forma determinista\n",
    "# Todas las permutaciones que se pueden obtener con two-opt están en la vecindad\n",
    "def TwoOpt(perm):\n",
    "  n = perm.shape[0]\n",
    "  n_neighbors = n*(n-1) // 2 - n           # Número de vecinos\n",
    "  # Guardaremos todos los vecinos en neighbors\n",
    "  neighbors = np.zeros((n_neighbors, n))\n",
    "  ind = 0\n",
    "  for i in range(n-1):\n",
    "    for j in range(i+2, n):\n",
    "      if not (i == 0 and j == n-1):\n",
    "        neighbors[ind, :] = perm\n",
    "        aux = perm[i:j+1].copy()\n",
    "        neighbors[ind, i:j+1] = aux[::-1]\n",
    "        ind = ind + 1\n",
    "  return neighbors\n",
    "\n",
    "\n",
    "distancias = np.array([\n",
    "  [0, 1, 2, 3, 4],\n",
    "  [1, 0, 5, 6, 7],\n",
    "  [2, 5, 0, 8, 9],\n",
    "  [3, 6, 8, 0, 10],\n",
    "  [4, 7, 9, 10, 0]\n",
    "])\n",
    "\n",
    "perm = np.random.permutation(distancias.shape[0])\n",
    "print(f\"Permutacion: {perm}\")\n",
    "neighbors = TwoOpt(perm).astype(int)\n",
    "\n",
    "for neighbor in neighbors:\n",
    "  print(f\"Vecino: {neighbor} = {sum([distancias[neighbor[i], neighbor[(i+1) % neighbor.shape[0]]] for i in range(neighbor.shape[0])])}\")\n"
   ]
  }
 ],
 "metadata": {
  "kernelspec": {
   "display_name": "env",
   "language": "python",
   "name": "python3"
  },
  "language_info": {
   "codemirror_mode": {
    "name": "ipython",
    "version": 3
   },
   "file_extension": ".py",
   "mimetype": "text/x-python",
   "name": "python",
   "nbconvert_exporter": "python",
   "pygments_lexer": "ipython3",
   "version": "3.10.0"
  }
 },
 "nbformat": 4,
 "nbformat_minor": 2
}
