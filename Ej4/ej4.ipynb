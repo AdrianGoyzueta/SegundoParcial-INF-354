{
 "cells": [
  {
   "cell_type": "code",
   "execution_count": 40,
   "metadata": {},
   "outputs": [
    {
     "name": "stdout",
     "output_type": "stream",
     "text": [
      "Mejor Solucion: [2 1 3 0]\n",
      "Costo minimo: 29\n"
     ]
    }
   ],
   "source": [
    "import numpy as np\n",
    "import random\n",
    "\n",
    "# Función de costo: calcula la longitud total del recorrido\n",
    "def TwoOpt(perm):\n",
    "  n = perm.shape[0]\n",
    "  n_neighbors = n*(n-1) // 2 - n           # Número de vecinos\n",
    "  # Guardaremos todos los vecinos en neighbors\n",
    "  neighbors = np.zeros((n_neighbors, n))\n",
    "  ind = 0\n",
    "  for i in range(n-1):\n",
    "    # Las posiciones a elegir para el two-opt no deben ser consecutivas\n",
    "    for j in range(i+2, n):\n",
    "      # Las posiciones no deben ser primera y última (son circularmente consecutivas)\n",
    "      if not (i == 0 and j == n-1):\n",
    "        neighbors[ind, :] = perm\n",
    "        aux = perm[i:j+1].copy()\n",
    "        # Se invierte el camino entre posiciones elegidas\n",
    "        neighbors[ind, i:j+1] = aux[::-1]\n",
    "        ind = ind + 1\n",
    "  return neighbors\n",
    "\n",
    "\n",
    "def calcular_costo(perm, distancias):\n",
    "  return sum(distancias[int(perm[i]), int(perm[(i + 1) % len(distancias)])] for i in range(len(perm)))\n",
    "\n",
    "\n",
    "def simulado_recodico(distancias, temp_inicial, enfriamiento, iteraciones):\n",
    "  n = distancias.shape[0]\n",
    "  solucion_actual = np.arange(n)\n",
    "  np.random.shuffle(solucion_actual)\n",
    "  costo_actual = calcular_costo(solucion_actual, distancias)\n",
    "\n",
    "  mejor_solucion = solucion_actual.copy()\n",
    "  mejor_costo = costo_actual\n",
    "\n",
    "  temperatura = temp_inicial\n",
    "\n",
    "  for _ in range(iteraciones):\n",
    "\n",
    "    vecinos = TwoOpt(solucion_actual)\n",
    "    index = random.randint(0, vecinos.shape[0] - 1)\n",
    "    solucion_vecinos = vecinos[index]\n",
    "    costo_vecinos = calcular_costo(solucion_vecinos, distancias)\n",
    "    \n",
    "    diferencia = costo_vecinos - costo_actual\n",
    "    \n",
    "    if diferencia < 0 or random.random() < np.exp(-diferencia / temperatura):\n",
    "      solucion_actual = solucion_vecinos\n",
    "      costo_actual = costo_vecinos\n",
    "      \n",
    "      if costo_actual < mejor_costo:\n",
    "        mejor_solucion = solucion_actual\n",
    "        mejor_costo = costo_actual\n",
    "    \n",
    "    temperatura *= enfriamiento\n",
    "  \n",
    "  return mejor_solucion, mejor_costo\n",
    "\n",
    "distancias = np.array([\n",
    "    [0, 2, 9, 10],\n",
    "    [2, 0, 6, 4],\n",
    "    [9, 6, 0, 8],\n",
    "    [10, 4, 8, 0]\n",
    "], dtype=int)\n",
    "\n",
    "temp_inicial = 100\n",
    "enfriamiento = 0.99\n",
    "iteraciones = 100\n",
    "\n",
    "mejor_solucion, mejor_costo = simulado_recodico(distancias, temp_inicial, enfriamiento, iteraciones)\n",
    "\n",
    "print(\"Mejor Solucion:\", mejor_solucion.astype(int))\n",
    "print(\"Costo minimo:\", mejor_costo)\n"
   ]
  }
 ],
 "metadata": {
  "kernelspec": {
   "display_name": "env",
   "language": "python",
   "name": "python3"
  },
  "language_info": {
   "codemirror_mode": {
    "name": "ipython",
    "version": 3
   },
   "file_extension": ".py",
   "mimetype": "text/x-python",
   "name": "python",
   "nbconvert_exporter": "python",
   "pygments_lexer": "ipython3",
   "version": "3.10.0"
  }
 },
 "nbformat": 4,
 "nbformat_minor": 2
}
